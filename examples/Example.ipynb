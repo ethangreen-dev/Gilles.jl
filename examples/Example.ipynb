{
 "cells": [
  {
   "cell_type": "code",
   "execution_count": 2,
   "metadata": {},
   "outputs": [
    {
     "name": "stderr",
     "output_type": "stream",
     "text": [
      "┌ Info: Precompiling Gilles [039899fc-7066-4c6a-afc3-53d091326a7f]\n",
      "└ @ Base loading.jl:1317\n"
     ]
    }
   ],
   "source": [
    "using Gilles"
   ]
  },
  {
   "cell_type": "code",
   "execution_count": 3,
   "metadata": {},
   "outputs": [
    {
     "data": {
      "text/plain": "Parameter(0.1, 0.0, \"rate3\")"
     },
     "execution_count": 3,
     "metadata": {},
     "output_type": "execute_result"
    }
   ],
   "source": [
    "rate1 = Parameter(name=\"rate1\", expression=0.0017)\n",
    "rate2 = Parameter(name=\"rate2\", expression=0.5)\n",
    "rate3 = Parameter(name=\"rate3\", expression=0.1)"
   ]
  },
  {
   "cell_type": "code",
   "execution_count": 4,
   "metadata": {},
   "outputs": [
    {
     "data": {
      "text/plain": "Species(false, false, false, 0, 0.0, 0.0, \"D\", \"\")"
     },
     "execution_count": 4,
     "metadata": {},
     "output_type": "execute_result"
    }
   ],
   "source": [
    "A = Species(name=\"A\", initial_value=301)\n",
    "B = Species(name=\"B\", initial_value=120)\n",
    "C = Species(name=\"C\", initial_value=0)\n",
    "D = Species(name=\"D\", initial_value=0)"
   ]
  },
  {
   "cell_type": "code",
   "execution_count": 5,
   "metadata": {},
   "outputs": [
    {
     "data": {
      "text/plain": "Reaction(false, \"r3\", \"\", \"\", Parameter(0.0, 0.0, \"\"), Int64[], Tuple{Species, Int64}[(Species(false, false, false, 0, 0.0, 0.0, \"C\", \"\"), 1)], Tuple{Species, Int64}[(Species(false, false, false, 120, 0.0, 0.0, \"B\", \"\"), 1), (Species(false, false, false, 0, 0.0, 0.0, \"D\", \"\"), 1)])"
     },
     "execution_count": 5,
     "metadata": {},
     "output_type": "execute_result"
    }
   ],
   "source": [
    "r1 = Reaction(name=\"r1\", reactants=[(A, 1), (B, 1)], products=[(C, 1)], rate=rate1)\n",
    "r2 = Reaction(name=\"r2\", reactants=[(C, 1)], products=[(A, 1), (B, 1)], rate=rate2)\n",
    "r3 = Reaction(name=\"r3\", reactants=[(C, 1)], products=[(B, 1), (D, 1)])"
   ]
  },
  {
   "cell_type": "code",
   "execution_count": 6,
   "metadata": {},
   "outputs": [
    {
     "data": {
      "text/plain": "Model(true, 1.0, \"Michaelis Menten\", \"\", [0, 1, 2, 3, 4, 5, 6, 7, 8, 9  …  91, 92, 93, 94, 95, 96, 97, 98, 99, 100], Parameter[Parameter(0.0017, 0.0, \"rate1\"), Parameter(0.5, 0.0, \"rate2\"), Parameter(0.1, 0.0, \"rate3\")], Species[Species(false, false, false, 301, 0.0, 0.0, \"A\", \"\"), Species(false, false, false, 120, 0.0, 0.0, \"B\", \"\"), Species(false, false, false, 0, 0.0, 0.0, \"C\", \"\"), Species(false, false, false, 0, 0.0, 0.0, \"D\", \"\")], Reaction[Reaction(false, \"r1\", \"\", \"\", Parameter(0.0017, 0.0, \"rate1\"), Int64[], Tuple{Species, Int64}[(Species(false, false, false, 301, 0.0, 0.0, \"A\", \"\"), 1), (Species(false, false, false, 120, 0.0, 0.0, \"B\", \"\"), 1)], Tuple{Species, Int64}[(Species(false, false, false, 0, 0.0, 0.0, \"C\", \"\"), 1)]), Reaction(false, \"r2\", \"\", \"\", Parameter(0.5, 0.0, \"rate2\"), Int64[], Tuple{Species, Int64}[(Species(false, false, false, 0, 0.0, 0.0, \"C\", \"\"), 1)], Tuple{Species, Int64}[(Species(false, false, false, 301, 0.0, 0.0, \"A\", \"\"), 1), (Species(false, false, false, 120, 0.0, 0.0, \"B\", \"\"), 1)]), Reaction(false, \"r3\", \"\", \"\", Parameter(0.0, 0.0, \"\"), Int64[], Tuple{Species, Int64}[(Species(false, false, false, 0, 0.0, 0.0, \"C\", \"\"), 1)], Tuple{Species, Int64}[(Species(false, false, false, 120, 0.0, 0.0, \"B\", \"\"), 1), (Species(false, false, false, 0, 0.0, 0.0, \"D\", \"\"), 1)])])"
     },
     "execution_count": 6,
     "metadata": {},
     "output_type": "execute_result"
    }
   ],
   "source": [
    "model = Model(\n",
    "    name=\"Michaelis Menten\", \n",
    "    parameters=[rate1, rate2, rate3],\n",
    "    species=[A, B, C, D],\n",
    "    reactions=[r1, r2, r3],\n",
    "    timespan=[range(0, stop=100)]\n",
    ")"
   ]
  }
 ],
 "metadata": {
  "kernelspec": {
   "display_name": "Julia 1.6.0",
   "language": "julia",
   "name": "julia-1.6"
  },
  "language_info": {
   "file_extension": ".jl",
   "mimetype": "application/julia",
   "name": "julia",
   "version": "1.6.0"
  },
  "orig_nbformat": 2
 },
 "nbformat": 4,
 "nbformat_minor": 2
}