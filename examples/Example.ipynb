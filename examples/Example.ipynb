{
 "cells": [
  {
   "cell_type": "code",
   "execution_count": null,
   "metadata": {},
   "outputs": [],
   "source": [
    "using Gilles"
   ]
  },
  {
   "cell_type": "code",
   "execution_count": null,
   "metadata": {},
   "outputs": [],
   "source": [
    "rate1 = Parameter(name=\"rate1\", expression=0.0017)\n",
    "rate2 = Parameter(name=\"rate2\", expression=0.5)\n",
    "rate3 = Parameter(name=\"rate3\", expression=0.1)"
   ]
  },
  {
   "cell_type": "code",
   "execution_count": null,
   "metadata": {},
   "outputs": [],
   "source": [
    "A = Species(name=\"A\", initial_value=301)\n",
    "B = Species(name=\"B\", initial_value=120)\n",
    "C = Species(name=\"C\", initial_value=0)\n",
    "D = Species(name=\"D\", initial_value=0)"
   ]
  },
  {
   "cell_type": "code",
   "execution_count": null,
   "metadata": {},
   "outputs": [],
   "source": [
    "r1 = Reaction(name=\"r1\", reactants=[(A, 1), (B, 1)], products=[(C, 1)], rate=rate1)\n",
    "r2 = Reaction(name=\"r2\", reactants=[(C, 1)], products=[(A, 1), (B, 1)], rate=rate2)\n",
    "r3 = Reaction(name=\"r3\", reactants=[(C, 1)], products=[(B, 1), (D, 1)])"
   ]
  },
  {
   "cell_type": "code",
   "execution_count": null,
   "metadata": {},
   "outputs": [],
   "source": [
    "model = Model(\n",
    "    name=\"Michaelis Menten\", \n",
    "    parameters=[rate1, rate2, rate3],\n",
    "    species=[A, B, C, D],\n",
    "    reactions=[r1, r2, r3],\n",
    "    timespan=1:100\n",
    ")"
   ]
  },
  {
   "cell_type": "code",
   "execution_count": null,
   "metadata": {},
   "outputs": [],
   "source": [
    "results = Solvers.run(model, solver=ODESolver)"
   ]
  }
 ],
 "metadata": {
  "kernelspec": {
   "display_name": "Julia 1.6.0",
   "language": "julia",
   "name": "julia-1.6"
  },
  "language_info": {
   "file_extension": ".jl",
   "mimetype": "application/julia",
   "name": "julia",
   "version": "1.6.0"
  },
  "orig_nbformat": 2
 },
 "nbformat": 4,
 "nbformat_minor": 2
}